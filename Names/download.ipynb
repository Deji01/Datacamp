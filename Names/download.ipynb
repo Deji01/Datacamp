{
 "cells": [
  {
   "cell_type": "markdown",
   "id": "4178732b-753b-40d0-b6b5-974111cb5044",
   "metadata": {},
   "source": [
    "## Download Data\n",
    "\n",
    "Let us start by downloading the data and saving it in an easy-to-read format. The raw data of babynames is available to download at https://www.ssa.gov/oact/babynames/names.zip as a zip file consisting of a set of comma separated text files for each year. Let us download the zip file and extract the files into a directory so we can inspect the files."
   ]
  },
  {
   "cell_type": "code",
   "execution_count": null,
   "id": "7c555f54-7f89-44bf-a543-87e802f66992",
   "metadata": {},
   "outputs": [],
   "source": [
    "# Import modules and functions\n",
    "import numpy as np\n",
    "import pandas as pd\n",
    "from wquantiles import quantile\n",
    "\n",
    "# Plotting libraries\n",
    "%config InlineBackend.figure_format='retina'\n",
    "import matplotlib.pyplot as plt\n",
    "plt.rcParams[\"figure.figsize\"] = (14, 6)\n",
    "plt.style.use('seaborn-darkgrid')\n",
    "import plotly.express as px\n",
    "\n",
    "# System utilities\n",
    "import os\n",
    "from pathlib import Path\n",
    "import shutil\n",
    "import wget\n",
    "from zipfile import ZipFile"
   ]
  },
  {
   "cell_type": "markdown",
   "id": "964ce756-cf1c-412d-a1e8-d672e022e841",
   "metadata": {},
   "source": [
    "### Babynames"
   ]
  },
  {
   "cell_type": "code",
   "execution_count": null,
   "id": "fb91f2c8-0276-4e9e-aeb6-6db77fced316",
   "metadata": {},
   "outputs": [],
   "source": [
    "# Download the zip file from \"https://www.ssa.gov/oact/babynames/names.zip\"\n",
    "wget.download(\"https://www.ssa.gov/oact/babynames/names.zip\")\n",
    "\n",
    "# Unzip data files to a directory named 'data-us'\n",
    "zip_names = ZipFile('names.zip')\n",
    "zip_names.extractall('data-us')\n",
    "zip_names.close()"
   ]
  },
  {
   "cell_type": "markdown",
   "id": "0dd1df90-0f33-40e3-bd72-dce7127a9a32",
   "metadata": {},
   "source": [
    "Let us now read the data for each year and combine them into a single data frame. We will save the resulting data frame of babynames as a gzip compressed csv file for subsequent usage."
   ]
  },
  {
   "cell_type": "code",
   "execution_count": null,
   "id": "e683032b-e96e-427e-affc-7971f9ad78d2",
   "metadata": {},
   "outputs": [],
   "source": [
    "# Read data for each year as a dataframe.\n",
    "babynames = []\n",
    "for file in Path('data-us').iterdir():\n",
    "    if file.name.endswith('txt'):\n",
    "      df = pd.read_csv(file, names=['name', 'sex', 'births'])\n",
    "      df['year'] = int(file.name[3:7])\n",
    "      babynames.append(df)\n",
    "    \n",
    "# Combine dataframes into a single dataframe\n",
    "babynames = pd.concat(babynames)\n",
    "\n",
    "# Save dataframe as csv.gz file with gzip compression\n",
    "babynames.to_csv('names.csv.gz', index=False, compression='gzip')"
   ]
  },
  {
   "cell_type": "markdown",
   "id": "7810d785-9080-4678-98cb-c2d340557bea",
   "metadata": {},
   "source": [
    "An important task that is often ignored when doing data science is cleaning up the project by removing any assets that are no longer needed. This is good practice. In accordance with that, let us remove the zip file we downloaded and the directory to which we unzipped the files, since we no longer need them!"
   ]
  },
  {
   "cell_type": "code",
   "execution_count": null,
   "id": "beaf2ef5-9cf0-43e8-8fbe-cc396c97e0d5",
   "metadata": {},
   "outputs": [],
   "source": [
    "# Remove the zip file downloaded\n",
    "os.remove('names.zip')\n",
    "\n",
    "# Remove the directory data-us\n",
    "shutil.rmtree('data-us')"
   ]
  },
  {
   "cell_type": "markdown",
   "id": "4331169d-3bff-40ce-8487-39e7016d9ef4",
   "metadata": {},
   "source": [
    "### Lifetables\n",
    "\n",
    "The lifetables data is available as [html files](https://www.ssa.gov/oact/NOTES/as120/LifeTables_Tbl_7_1910.html) on the SSA website. We will scrape the data, parse it and combine all lifetables into a single dataframe and save it as a csv file."
   ]
  },
  {
   "cell_type": "code",
   "execution_count": null,
   "id": "3c09f974-7926-4b74-a9ea-89211d95a69c",
   "metadata": {},
   "outputs": [],
   "source": [
    "def parse_lifetable(lifetable, year):\n",
    "    \"\"\"Parse extracted lifetable into a pandas dataframe\"\"\"\n",
    "    df = pd.DataFrame(\n",
    "        [[float(re.sub('\\n|,', '', x)) if x != u\"\\xa0\" else None for x in y] for y in lifetable[4:]],\n",
    "        columns = [re.sub('\\n|\\s', '', x) for i, x in enumerate(lifetable[1])]\n",
    "    )\n",
    "    df_male = df.iloc[:,:7].assign(sex = 'M')\n",
    "    df_female = df.iloc[:,8:].assign(sex = 'F')\n",
    "    df = pd.concat([df_male, df_female]).rename(columns={\"x\": \"age\"})\n",
    "    return df.assign(year = year).dropna()\n",
    "\n",
    "def scrape_lifetable(year):\n",
    "    \"\"\"Scrape lifetable into a list of lists\"\"\"\n",
    "    r = requests.get(f\"https://www.ssa.gov/oact/NOTES/as120/LifeTables_Tbl_7_{year}.html\")\n",
    "    doc = BeautifulSoup(r.content, 'html.parser')\n",
    "    tables = doc.find_all(\"table\")\n",
    "    table = tables[1]\n",
    "    extractor = Extractor(table)\n",
    "    extractor.parse()\n",
    "    return extractor.return_list()\n",
    "\n",
    "\n",
    "def get_lifetable(year):\n",
    "    \"\"\"Get lifetable for a given year\"\"\"\n",
    "    lifetable = scrape_lifetable(year)\n",
    "    df_lifetable = parse_lifetable(lifetable, year)\n",
    "    return df_lifetable\n",
    "\n",
    "def get_lifetables():\n",
    "    \"\"\"Get lifetables for all years available\"\"\"\n",
    "    years = range(1900, 2100, 10)\n",
    "    lifetables = pd.concat([get_lifetable(year) for year in years])\n",
    "    lifetables.rename(columns={\"\": \"ex\"}, inplace=True)\n",
    "    return lifetables"
   ]
  },
  {
   "cell_type": "code",
   "execution_count": null,
   "id": "3cb9c7f6-0f25-4e14-a156-53e9330f299f",
   "metadata": {},
   "outputs": [],
   "source": [
    "lifetables = get_lifetables()\n",
    "lifetables.to_csv('lifetables.csv', index=False)"
   ]
  }
 ],
 "metadata": {
  "kernelspec": {
   "display_name": "Python 3",
   "language": "python",
   "name": "python3"
  },
  "language_info": {
   "codemirror_mode": {
    "name": "ipython",
    "version": 3
   },
   "file_extension": ".py",
   "mimetype": "text/x-python",
   "name": "python",
   "nbconvert_exporter": "python",
   "pygments_lexer": "ipython3",
   "version": "3.8.5"
  }
 },
 "nbformat": 4,
 "nbformat_minor": 5
}
